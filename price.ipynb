{
 "metadata": {
  "language_info": {
   "codemirror_mode": {
    "name": "ipython",
    "version": 3
   },
   "file_extension": ".py",
   "mimetype": "text/x-python",
   "name": "python",
   "nbconvert_exporter": "python",
   "pygments_lexer": "ipython3",
   "version": "3.6.8-final"
  },
  "orig_nbformat": 2,
  "kernelspec": {
   "name": "python3",
   "display_name": "Python 3.6.8 64-bit",
   "metadata": {
    "interpreter": {
     "hash": "5a03dbb694a4b93861bfad0275a89c50a8f15a73664e82affc5aac96dfa6f069"
    }
   }
  }
 },
 "nbformat": 4,
 "nbformat_minor": 2,
 "cells": [
  {
   "cell_type": "code",
   "execution_count": 7,
   "metadata": {},
   "outputs": [
    {
     "output_type": "stream",
     "name": "stdout",
     "text": [
      "Folder already exists!\n"
     ]
    }
   ],
   "source": [
    "import pandas as pd\n",
    "import os\n",
    "\n",
    "try:  \n",
    "    os.mkdir('output')  \n",
    "except OSError as error:  \n",
    "    print(\"Folder already exists!\")\n"
   ]
  },
  {
   "cell_type": "code",
   "execution_count": 8,
   "metadata": {},
   "outputs": [
    {
     "output_type": "execute_result",
     "data": {
      "text/plain": [
       "SKU                    int64\n",
       "DESCRIPTION           object\n",
       "YEAR                   int64\n",
       "CAPACITY              object\n",
       "URL                   object\n",
       "PRICE                 object\n",
       "SELLER_INFORMATION    object\n",
       "OFFER_DESCRIPTION     object\n",
       "COUNTRY               object\n",
       "dtype: object"
      ]
     },
     "metadata": {},
     "execution_count": 8
    }
   ],
   "source": [
    "input_data = pd.read_csv(\"input/main.csv\")\n",
    "input_data.dtypes\n"
   ]
  },
  {
   "cell_type": "code",
   "execution_count": 22,
   "metadata": {},
   "outputs": [
    {
     "output_type": "execute_result",
     "data": {
      "text/plain": [
       "      SKU                         DESCRIPTION  YEAR CAPACITY  \\\n",
       "2   11331              Barbaresco,Angelo Gaja  1990    750ml   \n",
       "6   11332              Barbaresco,Angelo Gaja  2010    750ml   \n",
       "18  11333  Barbaresco,Costa Russi,Angelo Gaja  2009    750ml   \n",
       "22  11333  Barbaresco,Costa Russi,Angelo Gaja  2009    750ml   \n",
       "23  11333  Barbaresco,Costa Russi,Angelo Gaja  2009    750ml   \n",
       "\n",
       "                                                  URL    PRICE  \\\n",
       "2   https://www.wine-searcher.com/find/barbaresco+...  $329.00   \n",
       "6   https://www.wine-searcher.com/find/barbaresco+...  $175.00   \n",
       "18  https://www.wine-searcher.com/find/barbaresco+...  $304.00   \n",
       "22  https://www.wine-searcher.com/find/barbaresco+...  $359.99   \n",
       "23  https://www.wine-searcher.com/find/barbaresco+...  $379.00   \n",
       "\n",
       "             SELLER_INFORMATION                         OFFER_DESCRIPTION  \\\n",
       "2           The Redd Collection                1990Barbaresco,Angelo Gaja   \n",
       "6           The Redd Collection                2010Barbaresco,Angelo Gaja   \n",
       "18          The Redd Collection    2009Barbaresco,Costa Russi,Angelo Gaja   \n",
       "22          Lynnway Liquor Mart  Gaja Costa Russi Barbaresco20092009750ml   \n",
       "23  The Old & Rare Wine Company        Angelo Gaja Costa Russi Langhe2009   \n",
       "\n",
       "     COUNTRY  \n",
       "2   USA (CA)  \n",
       "6   USA (CA)  \n",
       "18  USA (CA)  \n",
       "22  USA (MA)  \n",
       "23  USA (CA)  "
      ],
      "text/html": "<div>\n<style scoped>\n    .dataframe tbody tr th:only-of-type {\n        vertical-align: middle;\n    }\n\n    .dataframe tbody tr th {\n        vertical-align: top;\n    }\n\n    .dataframe thead th {\n        text-align: right;\n    }\n</style>\n<table border=\"1\" class=\"dataframe\">\n  <thead>\n    <tr style=\"text-align: right;\">\n      <th></th>\n      <th>SKU</th>\n      <th>DESCRIPTION</th>\n      <th>YEAR</th>\n      <th>CAPACITY</th>\n      <th>URL</th>\n      <th>PRICE</th>\n      <th>SELLER_INFORMATION</th>\n      <th>OFFER_DESCRIPTION</th>\n      <th>COUNTRY</th>\n    </tr>\n  </thead>\n  <tbody>\n    <tr>\n      <th>2</th>\n      <td>11331</td>\n      <td>Barbaresco,Angelo Gaja</td>\n      <td>1990</td>\n      <td>750ml</td>\n      <td>https://www.wine-searcher.com/find/barbaresco+...</td>\n      <td>$329.00</td>\n      <td>The Redd Collection</td>\n      <td>1990Barbaresco,Angelo Gaja</td>\n      <td>USA (CA)</td>\n    </tr>\n    <tr>\n      <th>6</th>\n      <td>11332</td>\n      <td>Barbaresco,Angelo Gaja</td>\n      <td>2010</td>\n      <td>750ml</td>\n      <td>https://www.wine-searcher.com/find/barbaresco+...</td>\n      <td>$175.00</td>\n      <td>The Redd Collection</td>\n      <td>2010Barbaresco,Angelo Gaja</td>\n      <td>USA (CA)</td>\n    </tr>\n    <tr>\n      <th>18</th>\n      <td>11333</td>\n      <td>Barbaresco,Costa Russi,Angelo Gaja</td>\n      <td>2009</td>\n      <td>750ml</td>\n      <td>https://www.wine-searcher.com/find/barbaresco+...</td>\n      <td>$304.00</td>\n      <td>The Redd Collection</td>\n      <td>2009Barbaresco,Costa Russi,Angelo Gaja</td>\n      <td>USA (CA)</td>\n    </tr>\n    <tr>\n      <th>22</th>\n      <td>11333</td>\n      <td>Barbaresco,Costa Russi,Angelo Gaja</td>\n      <td>2009</td>\n      <td>750ml</td>\n      <td>https://www.wine-searcher.com/find/barbaresco+...</td>\n      <td>$359.99</td>\n      <td>Lynnway Liquor Mart</td>\n      <td>Gaja Costa Russi Barbaresco20092009750ml</td>\n      <td>USA (MA)</td>\n    </tr>\n    <tr>\n      <th>23</th>\n      <td>11333</td>\n      <td>Barbaresco,Costa Russi,Angelo Gaja</td>\n      <td>2009</td>\n      <td>750ml</td>\n      <td>https://www.wine-searcher.com/find/barbaresco+...</td>\n      <td>$379.00</td>\n      <td>The Old &amp; Rare Wine Company</td>\n      <td>Angelo Gaja Costa Russi Langhe2009</td>\n      <td>USA (CA)</td>\n    </tr>\n  </tbody>\n</table>\n</div>"
     },
     "metadata": {},
     "execution_count": 22
    }
   ],
   "source": [
    "country = input_data['COUNTRY']\n",
    "filter_country = country.str.contains('^USA *')\n",
    "final_output = input_data[filter_country]\n",
    "final_output.head()\n",
    "\n"
   ]
  },
  {
   "cell_type": "code",
   "execution_count": 12,
   "metadata": {},
   "outputs": [],
   "source": [
    "final_output.to_csv('output/filteredCountry.csv')"
   ]
  },
  {
   "cell_type": "code",
   "execution_count": 13,
   "metadata": {
    "tags": []
   },
   "outputs": [],
   "source": [
    "\n",
    "a = pd.read_csv('output/filteredCountry.csv')\n",
    "\n",
    "\n"
   ]
  },
  {
   "cell_type": "code",
   "execution_count": 19,
   "metadata": {},
   "outputs": [
    {
     "output_type": "execute_result",
     "data": {
      "text/plain": [
       "   Unnamed: 0    SKU                         DESCRIPTION  YEAR CAPACITY  \\\n",
       "0           2  11331              Barbaresco,Angelo Gaja  1990    750ml   \n",
       "1           6  11332              Barbaresco,Angelo Gaja  2010    750ml   \n",
       "2          18  11333  Barbaresco,Costa Russi,Angelo Gaja  2009    750ml   \n",
       "3          22  11333  Barbaresco,Costa Russi,Angelo Gaja  2009    750ml   \n",
       "4          23  11333  Barbaresco,Costa Russi,Angelo Gaja  2009    750ml   \n",
       "\n",
       "                                                 URL   PRICE  \\\n",
       "0  https://www.wine-searcher.com/find/barbaresco+...  329.00   \n",
       "1  https://www.wine-searcher.com/find/barbaresco+...  175.00   \n",
       "2  https://www.wine-searcher.com/find/barbaresco+...  304.00   \n",
       "3  https://www.wine-searcher.com/find/barbaresco+...  359.99   \n",
       "4  https://www.wine-searcher.com/find/barbaresco+...  379.00   \n",
       "\n",
       "            SELLER_INFORMATION                         OFFER_DESCRIPTION  \\\n",
       "0          The Redd Collection                1990Barbaresco,Angelo Gaja   \n",
       "1          The Redd Collection                2010Barbaresco,Angelo Gaja   \n",
       "2          The Redd Collection    2009Barbaresco,Costa Russi,Angelo Gaja   \n",
       "3          Lynnway Liquor Mart  Gaja Costa Russi Barbaresco20092009750ml   \n",
       "4  The Old & Rare Wine Company        Angelo Gaja Costa Russi Langhe2009   \n",
       "\n",
       "    COUNTRY  \n",
       "0  USA (CA)  \n",
       "1  USA (CA)  \n",
       "2  USA (CA)  \n",
       "3  USA (MA)  \n",
       "4  USA (CA)  "
      ],
      "text/html": "<div>\n<style scoped>\n    .dataframe tbody tr th:only-of-type {\n        vertical-align: middle;\n    }\n\n    .dataframe tbody tr th {\n        vertical-align: top;\n    }\n\n    .dataframe thead th {\n        text-align: right;\n    }\n</style>\n<table border=\"1\" class=\"dataframe\">\n  <thead>\n    <tr style=\"text-align: right;\">\n      <th></th>\n      <th>Unnamed: 0</th>\n      <th>SKU</th>\n      <th>DESCRIPTION</th>\n      <th>YEAR</th>\n      <th>CAPACITY</th>\n      <th>URL</th>\n      <th>PRICE</th>\n      <th>SELLER_INFORMATION</th>\n      <th>OFFER_DESCRIPTION</th>\n      <th>COUNTRY</th>\n    </tr>\n  </thead>\n  <tbody>\n    <tr>\n      <th>0</th>\n      <td>2</td>\n      <td>11331</td>\n      <td>Barbaresco,Angelo Gaja</td>\n      <td>1990</td>\n      <td>750ml</td>\n      <td>https://www.wine-searcher.com/find/barbaresco+...</td>\n      <td>329.00</td>\n      <td>The Redd Collection</td>\n      <td>1990Barbaresco,Angelo Gaja</td>\n      <td>USA (CA)</td>\n    </tr>\n    <tr>\n      <th>1</th>\n      <td>6</td>\n      <td>11332</td>\n      <td>Barbaresco,Angelo Gaja</td>\n      <td>2010</td>\n      <td>750ml</td>\n      <td>https://www.wine-searcher.com/find/barbaresco+...</td>\n      <td>175.00</td>\n      <td>The Redd Collection</td>\n      <td>2010Barbaresco,Angelo Gaja</td>\n      <td>USA (CA)</td>\n    </tr>\n    <tr>\n      <th>2</th>\n      <td>18</td>\n      <td>11333</td>\n      <td>Barbaresco,Costa Russi,Angelo Gaja</td>\n      <td>2009</td>\n      <td>750ml</td>\n      <td>https://www.wine-searcher.com/find/barbaresco+...</td>\n      <td>304.00</td>\n      <td>The Redd Collection</td>\n      <td>2009Barbaresco,Costa Russi,Angelo Gaja</td>\n      <td>USA (CA)</td>\n    </tr>\n    <tr>\n      <th>3</th>\n      <td>22</td>\n      <td>11333</td>\n      <td>Barbaresco,Costa Russi,Angelo Gaja</td>\n      <td>2009</td>\n      <td>750ml</td>\n      <td>https://www.wine-searcher.com/find/barbaresco+...</td>\n      <td>359.99</td>\n      <td>Lynnway Liquor Mart</td>\n      <td>Gaja Costa Russi Barbaresco20092009750ml</td>\n      <td>USA (MA)</td>\n    </tr>\n    <tr>\n      <th>4</th>\n      <td>23</td>\n      <td>11333</td>\n      <td>Barbaresco,Costa Russi,Angelo Gaja</td>\n      <td>2009</td>\n      <td>750ml</td>\n      <td>https://www.wine-searcher.com/find/barbaresco+...</td>\n      <td>379.00</td>\n      <td>The Old &amp; Rare Wine Company</td>\n      <td>Angelo Gaja Costa Russi Langhe2009</td>\n      <td>USA (CA)</td>\n    </tr>\n  </tbody>\n</table>\n</div>"
     },
     "metadata": {},
     "execution_count": 19
    }
   ],
   "source": [
    "price_col = a[\"PRICE\"]\n",
    "\n",
    "rem_data =price_col.str.contains('[?]')\n",
    "\n",
    "a.drop(a.index[rem_data],inplace=True)\n",
    "a[\"PRICE\"].replace(r'\\$','',regex=True,inplace=True)\n",
    "a[\"PRICE\"].replace(',','',regex=True,inplace=True)\n",
    "a.head()\n",
    "\n"
   ]
  },
  {
   "cell_type": "code",
   "execution_count": 20,
   "metadata": {},
   "outputs": [
    {
     "output_type": "execute_result",
     "data": {
      "text/plain": [
       "     SKU  FIRST_MINIMUM_PRICE  SECOND_MINIMUM_PRICE\n",
       "0  11333                304.0                359.99\n",
       "1  11334                329.0                339.00\n",
       "2  11335                304.0                315.00\n",
       "3  11336                334.0                364.99\n",
       "4  11337                334.0                364.99"
      ],
      "text/html": "<div>\n<style scoped>\n    .dataframe tbody tr th:only-of-type {\n        vertical-align: middle;\n    }\n\n    .dataframe tbody tr th {\n        vertical-align: top;\n    }\n\n    .dataframe thead th {\n        text-align: right;\n    }\n</style>\n<table border=\"1\" class=\"dataframe\">\n  <thead>\n    <tr style=\"text-align: right;\">\n      <th></th>\n      <th>SKU</th>\n      <th>FIRST_MINIMUM_PRICE</th>\n      <th>SECOND_MINIMUM_PRICE</th>\n    </tr>\n  </thead>\n  <tbody>\n    <tr>\n      <th>0</th>\n      <td>11333</td>\n      <td>304.0</td>\n      <td>359.99</td>\n    </tr>\n    <tr>\n      <th>1</th>\n      <td>11334</td>\n      <td>329.0</td>\n      <td>339.00</td>\n    </tr>\n    <tr>\n      <th>2</th>\n      <td>11335</td>\n      <td>304.0</td>\n      <td>315.00</td>\n    </tr>\n    <tr>\n      <th>3</th>\n      <td>11336</td>\n      <td>334.0</td>\n      <td>364.99</td>\n    </tr>\n    <tr>\n      <th>4</th>\n      <td>11337</td>\n      <td>334.0</td>\n      <td>364.99</td>\n    </tr>\n  </tbody>\n</table>\n</div>"
     },
     "metadata": {},
     "execution_count": 20
    }
   ],
   "source": [
    "price_test=a.groupby('SKU').filter(lambda x : len(x) >=2)\n",
    "price_test[\"PRICE\"] = price_test[\"PRICE\"].astype(float)\n",
    "price_test.dtypes\n",
    "price_test.head(10)\n",
    "\n",
    "min_price = price_test.groupby(['SKU']).PRICE.min().to_frame(name=\"FIRST_MINIMUM_PRICE\").reset_index()\n",
    "sec_price = price_test.groupby(['SKU']).PRICE.nth(1).to_frame(name=\"SECOND_MINIMUM_PRICE\").reset_index()\n",
    "\n",
    "frames = [min_price,sec_price]\n",
    "result = pd.merge(min_price,sec_price,on=\"SKU\")\n",
    "result.head()\n"
   ]
  },
  {
   "cell_type": "code",
   "execution_count": 21,
   "metadata": {},
   "outputs": [],
   "source": [
    "result.to_csv('output/lowestPrice.csv')"
   ]
  },
  {
   "cell_type": "code",
   "execution_count": null,
   "metadata": {},
   "outputs": [],
   "source": []
  }
 ]
}