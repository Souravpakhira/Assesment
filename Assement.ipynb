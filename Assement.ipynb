{
  "nbformat": 4,
  "nbformat_minor": 0,
  "metadata": {
    "colab": {
      "name": "Assement.ipynb",
      "provenance": [],
      "toc_visible": true,
      "authorship_tag": "ABX9TyOcRyojH1Vzt0YwnnB4TpRu",
      "include_colab_link": true
    },
    "kernelspec": {
      "name": "python3",
      "display_name": "Python 3"
    }
  },
  "cells": [
    {
      "cell_type": "markdown",
      "metadata": {
        "id": "view-in-github",
        "colab_type": "text"
      },
      "source": [
        "<a href=\"https://colab.research.google.com/github/Souravpakhira/Assesment/blob/main/Assement.ipynb\" target=\"_parent\"><img src=\"https://colab.research.google.com/assets/colab-badge.svg\" alt=\"Open In Colab\"/></a>"
      ]
    },
    {
      "cell_type": "code",
      "metadata": {
        "colab": {
          "base_uri": "https://localhost:8080/"
        },
        "id": "xHGVKIKyj4J-",
        "outputId": "7e175780-fcde-4ba8-d23a-ed07a1e2ae0f"
      },
      "source": [
        "import pandas as pd\r\n",
        "import os\r\n",
        "\r\n",
        "try:  \r\n",
        "    os.mkdir('output')  \r\n",
        "except OSError as error:  \r\n",
        "    print(\"Folder already exists!\")\r\n"
      ],
      "execution_count": 3,
      "outputs": [
        {
          "output_type": "stream",
          "text": [
            "Folder already exists!\n"
          ],
          "name": "stdout"
        }
      ]
    },
    {
      "cell_type": "code",
      "metadata": {
        "colab": {
          "base_uri": "https://localhost:8080/"
        },
        "id": "_8tNZ_KSkMgl",
        "outputId": "3a47ae2c-a9ba-4d5d-da9a-fd81c7110218"
      },
      "source": [
        " input_data = pd.read_csv(\"input/main.csv\")\r\n",
        "input_data.dtypes"
      ],
      "execution_count": 4,
      "outputs": [
        {
          "output_type": "execute_result",
          "data": {
            "text/plain": [
              "SKU                    int64\n",
              "DESCRIPTION           object\n",
              "YEAR                   int64\n",
              "CAPACITY              object\n",
              "URL                   object\n",
              "PRICE                 object\n",
              "SELLER_INFORMATION    object\n",
              "OFFER_DESCRIPTION     object\n",
              "COUNTRY               object\n",
              "dtype: object"
            ]
          },
          "metadata": {
            "tags": []
          },
          "execution_count": 4
        }
      ]
    },
    {
      "cell_type": "code",
      "metadata": {
        "colab": {
          "base_uri": "https://localhost:8080/",
          "height": 299
        },
        "id": "lopQm2IaquyM",
        "outputId": "bf3f0ceb-4e15-4074-fca7-0f90c96139f2"
      },
      "source": [
        "country = input_data['COUNTRY']\r\n",
        "filter_country = country.str.contains('^USA *')\r\n",
        "final_output = input_data[filter_country]\r\n",
        "final_output.head()"
      ],
      "execution_count": 5,
      "outputs": [
        {
          "output_type": "execute_result",
          "data": {
            "text/html": [
              "<div>\n",
              "<style scoped>\n",
              "    .dataframe tbody tr th:only-of-type {\n",
              "        vertical-align: middle;\n",
              "    }\n",
              "\n",
              "    .dataframe tbody tr th {\n",
              "        vertical-align: top;\n",
              "    }\n",
              "\n",
              "    .dataframe thead th {\n",
              "        text-align: right;\n",
              "    }\n",
              "</style>\n",
              "<table border=\"1\" class=\"dataframe\">\n",
              "  <thead>\n",
              "    <tr style=\"text-align: right;\">\n",
              "      <th></th>\n",
              "      <th>SKU</th>\n",
              "      <th>DESCRIPTION</th>\n",
              "      <th>YEAR</th>\n",
              "      <th>CAPACITY</th>\n",
              "      <th>URL</th>\n",
              "      <th>PRICE</th>\n",
              "      <th>SELLER_INFORMATION</th>\n",
              "      <th>OFFER_DESCRIPTION</th>\n",
              "      <th>COUNTRY</th>\n",
              "    </tr>\n",
              "  </thead>\n",
              "  <tbody>\n",
              "    <tr>\n",
              "      <th>2</th>\n",
              "      <td>11331</td>\n",
              "      <td>Barbaresco,Angelo Gaja</td>\n",
              "      <td>1990</td>\n",
              "      <td>750ml</td>\n",
              "      <td>https://www.wine-searcher.com/find/barbaresco+...</td>\n",
              "      <td>$329.00</td>\n",
              "      <td>The Redd Collection</td>\n",
              "      <td>1990Barbaresco,Angelo Gaja</td>\n",
              "      <td>USA (CA)</td>\n",
              "    </tr>\n",
              "    <tr>\n",
              "      <th>6</th>\n",
              "      <td>11332</td>\n",
              "      <td>Barbaresco,Angelo Gaja</td>\n",
              "      <td>2010</td>\n",
              "      <td>750ml</td>\n",
              "      <td>https://www.wine-searcher.com/find/barbaresco+...</td>\n",
              "      <td>$175.00</td>\n",
              "      <td>The Redd Collection</td>\n",
              "      <td>2010Barbaresco,Angelo Gaja</td>\n",
              "      <td>USA (CA)</td>\n",
              "    </tr>\n",
              "    <tr>\n",
              "      <th>18</th>\n",
              "      <td>11333</td>\n",
              "      <td>Barbaresco,Costa Russi,Angelo Gaja</td>\n",
              "      <td>2009</td>\n",
              "      <td>750ml</td>\n",
              "      <td>https://www.wine-searcher.com/find/barbaresco+...</td>\n",
              "      <td>$304.00</td>\n",
              "      <td>The Redd Collection</td>\n",
              "      <td>2009Barbaresco,Costa Russi,Angelo Gaja</td>\n",
              "      <td>USA (CA)</td>\n",
              "    </tr>\n",
              "    <tr>\n",
              "      <th>22</th>\n",
              "      <td>11333</td>\n",
              "      <td>Barbaresco,Costa Russi,Angelo Gaja</td>\n",
              "      <td>2009</td>\n",
              "      <td>750ml</td>\n",
              "      <td>https://www.wine-searcher.com/find/barbaresco+...</td>\n",
              "      <td>$359.99</td>\n",
              "      <td>Lynnway Liquor Mart</td>\n",
              "      <td>Gaja Costa Russi Barbaresco20092009750ml</td>\n",
              "      <td>USA (MA)</td>\n",
              "    </tr>\n",
              "    <tr>\n",
              "      <th>23</th>\n",
              "      <td>11333</td>\n",
              "      <td>Barbaresco,Costa Russi,Angelo Gaja</td>\n",
              "      <td>2009</td>\n",
              "      <td>750ml</td>\n",
              "      <td>https://www.wine-searcher.com/find/barbaresco+...</td>\n",
              "      <td>$379.00</td>\n",
              "      <td>The Old &amp; Rare Wine Company</td>\n",
              "      <td>Angelo Gaja Costa Russi Langhe2009</td>\n",
              "      <td>USA (CA)</td>\n",
              "    </tr>\n",
              "  </tbody>\n",
              "</table>\n",
              "</div>"
            ],
            "text/plain": [
              "      SKU  ...   COUNTRY\n",
              "2   11331  ...  USA (CA)\n",
              "6   11332  ...  USA (CA)\n",
              "18  11333  ...  USA (CA)\n",
              "22  11333  ...  USA (MA)\n",
              "23  11333  ...  USA (CA)\n",
              "\n",
              "[5 rows x 9 columns]"
            ]
          },
          "metadata": {
            "tags": []
          },
          "execution_count": 5
        }
      ]
    },
    {
      "cell_type": "code",
      "metadata": {
        "id": "KLWxsTcWqyGf"
      },
      "source": [
        "final_output.to_csv('output/filteredCountry.csv')"
      ],
      "execution_count": 6,
      "outputs": []
    },
    {
      "cell_type": "code",
      "metadata": {
        "colab": {
          "base_uri": "https://localhost:8080/",
          "height": 316
        },
        "id": "Loqswozoq4qB",
        "outputId": "dc258ee2-8c1a-4e0b-eb08-f44973de7d27"
      },
      "source": [
        "a = pd.read_csv('output/filteredCountry.csv')\r\n",
        "a.head()"
      ],
      "execution_count": 7,
      "outputs": [
        {
          "output_type": "execute_result",
          "data": {
            "text/html": [
              "<div>\n",
              "<style scoped>\n",
              "    .dataframe tbody tr th:only-of-type {\n",
              "        vertical-align: middle;\n",
              "    }\n",
              "\n",
              "    .dataframe tbody tr th {\n",
              "        vertical-align: top;\n",
              "    }\n",
              "\n",
              "    .dataframe thead th {\n",
              "        text-align: right;\n",
              "    }\n",
              "</style>\n",
              "<table border=\"1\" class=\"dataframe\">\n",
              "  <thead>\n",
              "    <tr style=\"text-align: right;\">\n",
              "      <th></th>\n",
              "      <th>Unnamed: 0</th>\n",
              "      <th>SKU</th>\n",
              "      <th>DESCRIPTION</th>\n",
              "      <th>YEAR</th>\n",
              "      <th>CAPACITY</th>\n",
              "      <th>URL</th>\n",
              "      <th>PRICE</th>\n",
              "      <th>SELLER_INFORMATION</th>\n",
              "      <th>OFFER_DESCRIPTION</th>\n",
              "      <th>COUNTRY</th>\n",
              "    </tr>\n",
              "  </thead>\n",
              "  <tbody>\n",
              "    <tr>\n",
              "      <th>0</th>\n",
              "      <td>2</td>\n",
              "      <td>11331</td>\n",
              "      <td>Barbaresco,Angelo Gaja</td>\n",
              "      <td>1990</td>\n",
              "      <td>750ml</td>\n",
              "      <td>https://www.wine-searcher.com/find/barbaresco+...</td>\n",
              "      <td>$329.00</td>\n",
              "      <td>The Redd Collection</td>\n",
              "      <td>1990Barbaresco,Angelo Gaja</td>\n",
              "      <td>USA (CA)</td>\n",
              "    </tr>\n",
              "    <tr>\n",
              "      <th>1</th>\n",
              "      <td>6</td>\n",
              "      <td>11332</td>\n",
              "      <td>Barbaresco,Angelo Gaja</td>\n",
              "      <td>2010</td>\n",
              "      <td>750ml</td>\n",
              "      <td>https://www.wine-searcher.com/find/barbaresco+...</td>\n",
              "      <td>$175.00</td>\n",
              "      <td>The Redd Collection</td>\n",
              "      <td>2010Barbaresco,Angelo Gaja</td>\n",
              "      <td>USA (CA)</td>\n",
              "    </tr>\n",
              "    <tr>\n",
              "      <th>2</th>\n",
              "      <td>18</td>\n",
              "      <td>11333</td>\n",
              "      <td>Barbaresco,Costa Russi,Angelo Gaja</td>\n",
              "      <td>2009</td>\n",
              "      <td>750ml</td>\n",
              "      <td>https://www.wine-searcher.com/find/barbaresco+...</td>\n",
              "      <td>$304.00</td>\n",
              "      <td>The Redd Collection</td>\n",
              "      <td>2009Barbaresco,Costa Russi,Angelo Gaja</td>\n",
              "      <td>USA (CA)</td>\n",
              "    </tr>\n",
              "    <tr>\n",
              "      <th>3</th>\n",
              "      <td>22</td>\n",
              "      <td>11333</td>\n",
              "      <td>Barbaresco,Costa Russi,Angelo Gaja</td>\n",
              "      <td>2009</td>\n",
              "      <td>750ml</td>\n",
              "      <td>https://www.wine-searcher.com/find/barbaresco+...</td>\n",
              "      <td>$359.99</td>\n",
              "      <td>Lynnway Liquor Mart</td>\n",
              "      <td>Gaja Costa Russi Barbaresco20092009750ml</td>\n",
              "      <td>USA (MA)</td>\n",
              "    </tr>\n",
              "    <tr>\n",
              "      <th>4</th>\n",
              "      <td>23</td>\n",
              "      <td>11333</td>\n",
              "      <td>Barbaresco,Costa Russi,Angelo Gaja</td>\n",
              "      <td>2009</td>\n",
              "      <td>750ml</td>\n",
              "      <td>https://www.wine-searcher.com/find/barbaresco+...</td>\n",
              "      <td>$379.00</td>\n",
              "      <td>The Old &amp; Rare Wine Company</td>\n",
              "      <td>Angelo Gaja Costa Russi Langhe2009</td>\n",
              "      <td>USA (CA)</td>\n",
              "    </tr>\n",
              "  </tbody>\n",
              "</table>\n",
              "</div>"
            ],
            "text/plain": [
              "   Unnamed: 0    SKU  ...                         OFFER_DESCRIPTION   COUNTRY\n",
              "0           2  11331  ...                1990Barbaresco,Angelo Gaja  USA (CA)\n",
              "1           6  11332  ...                2010Barbaresco,Angelo Gaja  USA (CA)\n",
              "2          18  11333  ...    2009Barbaresco,Costa Russi,Angelo Gaja  USA (CA)\n",
              "3          22  11333  ...  Gaja Costa Russi Barbaresco20092009750ml  USA (MA)\n",
              "4          23  11333  ...        Angelo Gaja Costa Russi Langhe2009  USA (CA)\n",
              "\n",
              "[5 rows x 10 columns]"
            ]
          },
          "metadata": {
            "tags": []
          },
          "execution_count": 7
        }
      ]
    },
    {
      "cell_type": "code",
      "metadata": {
        "colab": {
          "base_uri": "https://localhost:8080/",
          "height": 316
        },
        "id": "146aY6Y0q8kp",
        "outputId": "1699436f-fd87-41ea-e572-e770b24600b1"
      },
      "source": [
        "price_col = a[\"PRICE\"]\r\n",
        "\r\n",
        "rem_data =price_col.str.contains('[?]')\r\n",
        "\r\n",
        "a.drop(a.index[rem_data],inplace=True)\r\n",
        "a[\"PRICE\"].replace(r'\\$','',regex=True,inplace=True)\r\n",
        "a[\"PRICE\"].replace(',','',regex=True,inplace=True)\r\n",
        "a.head()"
      ],
      "execution_count": 8,
      "outputs": [
        {
          "output_type": "execute_result",
          "data": {
            "text/html": [
              "<div>\n",
              "<style scoped>\n",
              "    .dataframe tbody tr th:only-of-type {\n",
              "        vertical-align: middle;\n",
              "    }\n",
              "\n",
              "    .dataframe tbody tr th {\n",
              "        vertical-align: top;\n",
              "    }\n",
              "\n",
              "    .dataframe thead th {\n",
              "        text-align: right;\n",
              "    }\n",
              "</style>\n",
              "<table border=\"1\" class=\"dataframe\">\n",
              "  <thead>\n",
              "    <tr style=\"text-align: right;\">\n",
              "      <th></th>\n",
              "      <th>Unnamed: 0</th>\n",
              "      <th>SKU</th>\n",
              "      <th>DESCRIPTION</th>\n",
              "      <th>YEAR</th>\n",
              "      <th>CAPACITY</th>\n",
              "      <th>URL</th>\n",
              "      <th>PRICE</th>\n",
              "      <th>SELLER_INFORMATION</th>\n",
              "      <th>OFFER_DESCRIPTION</th>\n",
              "      <th>COUNTRY</th>\n",
              "    </tr>\n",
              "  </thead>\n",
              "  <tbody>\n",
              "    <tr>\n",
              "      <th>0</th>\n",
              "      <td>2</td>\n",
              "      <td>11331</td>\n",
              "      <td>Barbaresco,Angelo Gaja</td>\n",
              "      <td>1990</td>\n",
              "      <td>750ml</td>\n",
              "      <td>https://www.wine-searcher.com/find/barbaresco+...</td>\n",
              "      <td>329.00</td>\n",
              "      <td>The Redd Collection</td>\n",
              "      <td>1990Barbaresco,Angelo Gaja</td>\n",
              "      <td>USA (CA)</td>\n",
              "    </tr>\n",
              "    <tr>\n",
              "      <th>1</th>\n",
              "      <td>6</td>\n",
              "      <td>11332</td>\n",
              "      <td>Barbaresco,Angelo Gaja</td>\n",
              "      <td>2010</td>\n",
              "      <td>750ml</td>\n",
              "      <td>https://www.wine-searcher.com/find/barbaresco+...</td>\n",
              "      <td>175.00</td>\n",
              "      <td>The Redd Collection</td>\n",
              "      <td>2010Barbaresco,Angelo Gaja</td>\n",
              "      <td>USA (CA)</td>\n",
              "    </tr>\n",
              "    <tr>\n",
              "      <th>2</th>\n",
              "      <td>18</td>\n",
              "      <td>11333</td>\n",
              "      <td>Barbaresco,Costa Russi,Angelo Gaja</td>\n",
              "      <td>2009</td>\n",
              "      <td>750ml</td>\n",
              "      <td>https://www.wine-searcher.com/find/barbaresco+...</td>\n",
              "      <td>304.00</td>\n",
              "      <td>The Redd Collection</td>\n",
              "      <td>2009Barbaresco,Costa Russi,Angelo Gaja</td>\n",
              "      <td>USA (CA)</td>\n",
              "    </tr>\n",
              "    <tr>\n",
              "      <th>3</th>\n",
              "      <td>22</td>\n",
              "      <td>11333</td>\n",
              "      <td>Barbaresco,Costa Russi,Angelo Gaja</td>\n",
              "      <td>2009</td>\n",
              "      <td>750ml</td>\n",
              "      <td>https://www.wine-searcher.com/find/barbaresco+...</td>\n",
              "      <td>359.99</td>\n",
              "      <td>Lynnway Liquor Mart</td>\n",
              "      <td>Gaja Costa Russi Barbaresco20092009750ml</td>\n",
              "      <td>USA (MA)</td>\n",
              "    </tr>\n",
              "    <tr>\n",
              "      <th>4</th>\n",
              "      <td>23</td>\n",
              "      <td>11333</td>\n",
              "      <td>Barbaresco,Costa Russi,Angelo Gaja</td>\n",
              "      <td>2009</td>\n",
              "      <td>750ml</td>\n",
              "      <td>https://www.wine-searcher.com/find/barbaresco+...</td>\n",
              "      <td>379.00</td>\n",
              "      <td>The Old &amp; Rare Wine Company</td>\n",
              "      <td>Angelo Gaja Costa Russi Langhe2009</td>\n",
              "      <td>USA (CA)</td>\n",
              "    </tr>\n",
              "  </tbody>\n",
              "</table>\n",
              "</div>"
            ],
            "text/plain": [
              "   Unnamed: 0    SKU  ...                         OFFER_DESCRIPTION   COUNTRY\n",
              "0           2  11331  ...                1990Barbaresco,Angelo Gaja  USA (CA)\n",
              "1           6  11332  ...                2010Barbaresco,Angelo Gaja  USA (CA)\n",
              "2          18  11333  ...    2009Barbaresco,Costa Russi,Angelo Gaja  USA (CA)\n",
              "3          22  11333  ...  Gaja Costa Russi Barbaresco20092009750ml  USA (MA)\n",
              "4          23  11333  ...        Angelo Gaja Costa Russi Langhe2009  USA (CA)\n",
              "\n",
              "[5 rows x 10 columns]"
            ]
          },
          "metadata": {
            "tags": []
          },
          "execution_count": 8
        }
      ]
    },
    {
      "cell_type": "code",
      "metadata": {
        "colab": {
          "base_uri": "https://localhost:8080/",
          "height": 195
        },
        "id": "kvn9aGqArAq4",
        "outputId": "fa2f6384-d6ae-4df1-fdac-6da33ae2c6dd"
      },
      "source": [
        "price_test=a.groupby('SKU').filter(lambda x : len(x) >=2)\r\n",
        "price_test[\"PRICE\"] = price_test[\"PRICE\"].astype(float)\r\n",
        "price_test.dtypes\r\n",
        "price_test.head(10)\r\n",
        "\r\n",
        "min_price = price_test.groupby(['SKU']).PRICE.min().to_frame(name=\"FIRST_MINIMUM_PRICE\").reset_index()\r\n",
        "sec_price = price_test.groupby(['SKU']).PRICE.nth(1).to_frame(name=\"SECOND_MINIMUM_PRICE\").reset_index()\r\n",
        "\r\n",
        "frames = [min_price,sec_price]\r\n",
        "result = pd.merge(min_price,sec_price,on=\"SKU\")\r\n",
        "result.head()"
      ],
      "execution_count": 9,
      "outputs": [
        {
          "output_type": "execute_result",
          "data": {
            "text/html": [
              "<div>\n",
              "<style scoped>\n",
              "    .dataframe tbody tr th:only-of-type {\n",
              "        vertical-align: middle;\n",
              "    }\n",
              "\n",
              "    .dataframe tbody tr th {\n",
              "        vertical-align: top;\n",
              "    }\n",
              "\n",
              "    .dataframe thead th {\n",
              "        text-align: right;\n",
              "    }\n",
              "</style>\n",
              "<table border=\"1\" class=\"dataframe\">\n",
              "  <thead>\n",
              "    <tr style=\"text-align: right;\">\n",
              "      <th></th>\n",
              "      <th>SKU</th>\n",
              "      <th>FIRST_MINIMUM_PRICE</th>\n",
              "      <th>SECOND_MINIMUM_PRICE</th>\n",
              "    </tr>\n",
              "  </thead>\n",
              "  <tbody>\n",
              "    <tr>\n",
              "      <th>0</th>\n",
              "      <td>11333</td>\n",
              "      <td>304.0</td>\n",
              "      <td>359.99</td>\n",
              "    </tr>\n",
              "    <tr>\n",
              "      <th>1</th>\n",
              "      <td>11334</td>\n",
              "      <td>329.0</td>\n",
              "      <td>339.00</td>\n",
              "    </tr>\n",
              "    <tr>\n",
              "      <th>2</th>\n",
              "      <td>11335</td>\n",
              "      <td>304.0</td>\n",
              "      <td>315.00</td>\n",
              "    </tr>\n",
              "    <tr>\n",
              "      <th>3</th>\n",
              "      <td>11336</td>\n",
              "      <td>334.0</td>\n",
              "      <td>364.99</td>\n",
              "    </tr>\n",
              "    <tr>\n",
              "      <th>4</th>\n",
              "      <td>11337</td>\n",
              "      <td>334.0</td>\n",
              "      <td>364.99</td>\n",
              "    </tr>\n",
              "  </tbody>\n",
              "</table>\n",
              "</div>"
            ],
            "text/plain": [
              "     SKU  FIRST_MINIMUM_PRICE  SECOND_MINIMUM_PRICE\n",
              "0  11333                304.0                359.99\n",
              "1  11334                329.0                339.00\n",
              "2  11335                304.0                315.00\n",
              "3  11336                334.0                364.99\n",
              "4  11337                334.0                364.99"
            ]
          },
          "metadata": {
            "tags": []
          },
          "execution_count": 9
        }
      ]
    },
    {
      "cell_type": "code",
      "metadata": {
        "id": "LV2hA7xLrF2V"
      },
      "source": [
        "result.to_csv('output/lowestPrice.csv')"
      ],
      "execution_count": 10,
      "outputs": []
    }
  ]
}